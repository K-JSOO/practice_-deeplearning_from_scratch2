{
 "cells": [
  {
   "cell_type": "markdown",
   "metadata": {},
   "source": [
    "# 2. 자연어와 단어의 분산 표현"
   ]
  },
  {
   "cell_type": "code",
   "execution_count": 1,
   "metadata": {},
   "outputs": [],
   "source": [
    "from IPython.display import Image"
   ]
  },
  {
   "cell_type": "markdown",
   "metadata": {},
   "source": [
    "# 2.1 자연어 처리\n",
    "- 인간의 언어를 컴퓨터에게 이해시키기 위한 기술 분야\n",
    "- 컴퓨터에게 단어의 의미를 이해시키는 것이 중요\n",
    "- 세가지 기법 : 시소러스를 활용한 기법, 통계 기반 기법,  추론 기반 기법\n",
    "\n",
    "# 2.2 시소러스\n",
    "- 유의어(동의어, 유의어) 사전\n",
    "- 사람을 쓰는 비용이 많이 큼\n",
    "- 단어의 미묘한 차이 표현 불가능\n",
    "\n",
    "# 2.3 통계 기반 기법\n",
    "- 말뭉치 사용"
   ]
  },
  {
   "cell_type": "markdown",
   "metadata": {},
   "source": [
    "# ※ 말뭉치 전처리"
   ]
  },
  {
   "cell_type": "code",
   "execution_count": 2,
   "metadata": {},
   "outputs": [
    {
     "data": {
      "text/plain": [
       "'you say goodbye and i say hello .'"
      ]
     },
     "execution_count": 2,
     "metadata": {},
     "output_type": "execute_result"
    }
   ],
   "source": [
    "# 예시1\n",
    "\n",
    "text='You say goodbye and I say hello.'\n",
    "text=text.lower()\n",
    "text=text.replace('.', ' .')\n",
    "text"
   ]
  },
  {
   "cell_type": "code",
   "execution_count": 3,
   "metadata": {},
   "outputs": [
    {
     "data": {
      "text/plain": [
       "['you', 'say', 'goodbye', 'and', 'i', 'say', 'hello', '.']"
      ]
     },
     "execution_count": 3,
     "metadata": {},
     "output_type": "execute_result"
    }
   ],
   "source": [
    "# 띄어쓰기로 단어 분류\n",
    "\n",
    "words=text.split(' ')\n",
    "words"
   ]
  },
  {
   "cell_type": "code",
   "execution_count": 4,
   "metadata": {
    "scrolled": true
   },
   "outputs": [
    {
     "name": "stdout",
     "output_type": "stream",
     "text": [
      "you\n",
      "word_to_id:  {'you': 0}\n",
      "id_to_word:  {0: 'you'}\n",
      "say\n",
      "word_to_id:  {'you': 0, 'say': 1}\n",
      "id_to_word:  {0: 'you', 1: 'say'}\n",
      "goodbye\n",
      "word_to_id:  {'you': 0, 'say': 1, 'goodbye': 2}\n",
      "id_to_word:  {0: 'you', 1: 'say', 2: 'goodbye'}\n",
      "and\n",
      "word_to_id:  {'you': 0, 'say': 1, 'goodbye': 2, 'and': 3}\n",
      "id_to_word:  {0: 'you', 1: 'say', 2: 'goodbye', 3: 'and'}\n",
      "i\n",
      "word_to_id:  {'you': 0, 'say': 1, 'goodbye': 2, 'and': 3, 'i': 4}\n",
      "id_to_word:  {0: 'you', 1: 'say', 2: 'goodbye', 3: 'and', 4: 'i'}\n",
      "say\n",
      "hello\n",
      "word_to_id:  {'you': 0, 'say': 1, 'goodbye': 2, 'and': 3, 'i': 4, 'hello': 5}\n",
      "id_to_word:  {0: 'you', 1: 'say', 2: 'goodbye', 3: 'and', 4: 'i', 5: 'hello'}\n",
      ".\n",
      "word_to_id:  {'you': 0, 'say': 1, 'goodbye': 2, 'and': 3, 'i': 4, 'hello': 5, '.': 6}\n",
      "id_to_word:  {0: 'you', 1: 'say', 2: 'goodbye', 3: 'and', 4: 'i', 5: 'hello', 6: '.'}\n"
     ]
    }
   ],
   "source": [
    "# 단어 ID와 단어를 dictionary로 생성\n",
    "\n",
    "word_to_id={}  # 단어에서 ID로의 변환\n",
    "id_to_word={} # ID에서 단어로의 변환\n",
    "\n",
    "for i in words:\n",
    "    print(i)\n",
    "    if i not in word_to_id: # i가 word_to_id에 포함되지 않았다면 \n",
    "        new_id=len(word_to_id) # new_id = word_to_id 안의 단어 개수 id가 0,1,2,...식으로 증가\n",
    "        word_to_id[i]=new_id # word_to_id의 word에 new_id 추가\n",
    "        print('word_to_id: ',word_to_id)\n",
    "        id_to_word[new_id]=i # id_to_word의 new_id에 단어 i 추가\n",
    "        print('id_to_word: ',id_to_word)"
   ]
  },
  {
   "cell_type": "code",
   "execution_count": 5,
   "metadata": {},
   "outputs": [
    {
     "name": "stdout",
     "output_type": "stream",
     "text": [
      "{'you': 0, 'say': 1, 'goodbye': 2, 'and': 3, 'i': 4, 'hello': 5, '.': 6}\n",
      "{0: 'you', 1: 'say', 2: 'goodbye', 3: 'and', 4: 'i', 5: 'hello', 6: '.'}\n"
     ]
    }
   ],
   "source": [
    "# 확인\n",
    "\n",
    "print(word_to_id)\n",
    "print(id_to_word)"
   ]
  },
  {
   "cell_type": "code",
   "execution_count": 6,
   "metadata": {},
   "outputs": [],
   "source": [
    "# 패키지 import\n",
    "\n",
    "import numpy as np"
   ]
  },
  {
   "cell_type": "code",
   "execution_count": 7,
   "metadata": {},
   "outputs": [
    {
     "name": "stdout",
     "output_type": "stream",
     "text": [
      "[0, 1, 2, 3, 4, 1, 5, 6]\n"
     ]
    },
    {
     "data": {
      "text/plain": [
       "array([0, 1, 2, 3, 4, 1, 5, 6])"
      ]
     },
     "execution_count": 7,
     "metadata": {},
     "output_type": "execute_result"
    }
   ],
   "source": [
    "# 단어 목록을 단어 목록 id로 변경\n",
    "\n",
    "corpus=[word_to_id[i] for i in words] # words에 해당하는 word_to_id의 values 값 추출 \n",
    "print(corpus) \n",
    "corpus=np.array(corpus) # 추출한 values 값을 array로 변환\n",
    "corpus"
   ]
  },
  {
   "cell_type": "code",
   "execution_count": 8,
   "metadata": {},
   "outputs": [],
   "source": [
    "# 위의 과정을 함수로 구현\n",
    "\n",
    "def preprocess(text):\n",
    "    import numpy as np\n",
    "    \n",
    "    # 문장 전처리\n",
    "    text=text.lower()\n",
    "    text=text.replace('.',' .')\n",
    "    words=text.split(' ')\n",
    "    \n",
    "    # 단어 목록 생성\n",
    "    word_to_id={}\n",
    "    id_to_word={}\n",
    "    \n",
    "    for i in words:\n",
    "        if i not in word_to_id:\n",
    "            new_id=len(word_to_id)\n",
    "            word_to_id[i]=new_id\n",
    "            id_to_word[new_id]=i\n",
    "            \n",
    "    # array 배열로 변환\n",
    "    corpus=np.array([word_to_id[i] for i in words])\n",
    "    \n",
    "    return corpus, word_to_id, id_to_word"
   ]
  },
  {
   "cell_type": "code",
   "execution_count": 9,
   "metadata": {},
   "outputs": [
    {
     "data": {
      "text/plain": [
       "(array([0, 1, 2, 3, 4, 1, 5, 6]),\n",
       " {'you': 0, 'say': 1, 'goodbye': 2, 'and': 3, 'i': 4, 'hello': 5, '.': 6},\n",
       " {0: 'you', 1: 'say', 2: 'goodbye', 3: 'and', 4: 'i', 5: 'hello', 6: '.'})"
      ]
     },
     "execution_count": 9,
     "metadata": {},
     "output_type": "execute_result"
    }
   ],
   "source": [
    "# 함수 확인\n",
    "\n",
    "preprocess('You say goodbye and I say Hello.')"
   ]
  },
  {
   "cell_type": "markdown",
   "metadata": {},
   "source": [
    "# ※ 분포가설\n",
    "- 통계기반 기법\n",
    "- 특정단어 주변의 단어가 몇 개인지 집계"
   ]
  },
  {
   "cell_type": "markdown",
   "metadata": {},
   "source": [
    "# ※ 동시발생 행렬\n",
    "- 모든 단어에 대해 동시 발생하는 단어를 표로 나타 낼수 있는데 이표가 행렬의 형태를 띔"
   ]
  },
  {
   "cell_type": "code",
   "execution_count": 10,
   "metadata": {},
   "outputs": [],
   "source": [
    "# 필요 패키지 import\n",
    "\n",
    "import sys\n",
    "sys.path.append('..')\n",
    "import numpy as np\n",
    "import common.util as ut"
   ]
  },
  {
   "cell_type": "code",
   "execution_count": 11,
   "metadata": {},
   "outputs": [
    {
     "name": "stdout",
     "output_type": "stream",
     "text": [
      "{'you': 0, 'say': 1, 'goodbye': 2, 'and': 3, 'i': 4, 'hello': 5, '.': 6}\n",
      "{0: 'you', 1: 'say', 2: 'goodbye', 3: 'and', 4: 'i', 5: 'hello', 6: '.'}\n",
      "[0 1 2 3 4 1 5 6]\n"
     ]
    }
   ],
   "source": [
    "# 함수가 제대로 import 되었는지 확인\n",
    "\n",
    "text='You say goodbye and I say hello.'\n",
    "corpus,word_to_id,id_to_word=ut.preprocess(text)\n",
    "\n",
    "print(word_to_id)\n",
    "print(id_to_word)\n",
    "print(corpus)"
   ]
  },
  {
   "cell_type": "code",
   "execution_count": 12,
   "metadata": {},
   "outputs": [
    {
     "data": {
      "text/plain": [
       "array([[0, 1, 0, 0, 0, 0, 0],\n",
       "       [1, 0, 1, 0, 1, 1, 0],\n",
       "       [0, 1, 0, 1, 0, 0, 0],\n",
       "       [0, 0, 1, 0, 1, 0, 0],\n",
       "       [0, 1, 0, 1, 0, 0, 0],\n",
       "       [0, 1, 0, 0, 0, 0, 1],\n",
       "       [0, 0, 0, 0, 0, 1, 0]])"
      ]
     },
     "execution_count": 12,
     "metadata": {},
     "output_type": "execute_result"
    }
   ],
   "source": [
    "# 동시발생 행렬\n",
    "\n",
    "C=np.array([[0,1,0,0,0,0,0],\n",
    "            [1,0,1,0,1,1,0],\n",
    "            [0,1,0,1,0,0,0],\n",
    "            [0,0,1,0,1,0,0],\n",
    "            [0,1,0,1,0,0,0],\n",
    "            [0,1,0,0,0,0,1],\n",
    "            [0,0,0,0,0,1,0]], dtype=np.int32)\n",
    "C"
   ]
  },
  {
   "cell_type": "code",
   "execution_count": 13,
   "metadata": {},
   "outputs": [
    {
     "name": "stdout",
     "output_type": "stream",
     "text": [
      "[0 1 0 0 0 0 0]\n",
      "[0 1 0 1 0 0 0]\n",
      "[0 1 0 1 0 0 0]\n"
     ]
    }
   ],
   "source": [
    "print(C[0]) # ID가 0인 단어의 벡터 표현\n",
    "print(C[4]) # ID가 4인 단어의 벡터 표현\n",
    "print(C[word_to_id['goodbye']]) # goodbye의 벡터 표현"
   ]
  },
  {
   "cell_type": "code",
   "execution_count": 14,
   "metadata": {},
   "outputs": [],
   "source": [
    "# 동시발생 행렬를 함수로 생성\n",
    "\n",
    "def create_co_matrix(corpus, vocap_size, window_size=1):\n",
    "    import numpy as np\n",
    "    \n",
    "    corpus_size=len(corpus)\n",
    "    co_matrix=np.zeros((vocap_size,vocap_size),dtype=np.int32)\n",
    "    \n",
    "    for idx, word_id in enumerate(corpus):\n",
    "        for i in range(1, window_size+1):\n",
    "            left_idx=idx-i  # idx의 왼쪽 요소 인덱스값\n",
    "            right_idx=idx+i # idx의 오른쪽 요소 인덱스값\n",
    "            \n",
    "            if left_idx>=0: # 만약 left_idx가 0보다 크거나 같다면\n",
    "                left_word_id=corpus[left_idx]\n",
    "                co_matrix[word_id,left_word_id]+=1\n",
    "            \n",
    "            if right_idx < corpus_size: # 만약 right_idx가 corpus_size보다 작다면\n",
    "                right_word_id=corpus[right_idx] \n",
    "                co_matrix[word_id,right_word_id]+=1\n",
    "                \n",
    "    return co_matrix"
   ]
  },
  {
   "cell_type": "code",
   "execution_count": 15,
   "metadata": {},
   "outputs": [
    {
     "data": {
      "text/plain": [
       "array([[0, 1, 0, 0, 0, 0, 0],\n",
       "       [1, 0, 1, 0, 1, 1, 0],\n",
       "       [0, 1, 0, 1, 0, 0, 0],\n",
       "       [0, 0, 1, 0, 1, 0, 0],\n",
       "       [0, 1, 0, 1, 0, 0, 0],\n",
       "       [0, 1, 0, 0, 0, 0, 1],\n",
       "       [0, 0, 0, 0, 0, 1, 0]])"
      ]
     },
     "execution_count": 15,
     "metadata": {},
     "output_type": "execute_result"
    }
   ],
   "source": [
    "# 확인\n",
    "\n",
    "create_co_matrix(corpus,len(word_to_id))"
   ]
  },
  {
   "cell_type": "markdown",
   "metadata": {},
   "source": [
    "# ※ 벡터간 유사도\n",
    "- 벡터의 유사도를 측정하는 방법은 벡터의 내적, 유클리드거리 등이 있으나 단어 벡터의 유사도를 나타낼 때는 코사인 유사도를 주로 이용함                         \n",
    "- 코사인 유사도 : 두벡터가 가리키는 방향이 얼마나 비슷한가를 나타내는 유사도, 완전히 같은 방향이라면 1, 정반대 방향이라면 -1"
   ]
  },
  {
   "cell_type": "code",
   "execution_count": 16,
   "metadata": {},
   "outputs": [],
   "source": [
    "# 코사인 유사도 함수 생성\n",
    "# 이 함수는 제로벡터가 들어오면 분모가 0이 되는 오류가 생긴다 \n",
    "# 따라서 아주 작은값인 eps(epsilon)을 더해주면 된다 \n",
    "\n",
    "def cos_similarity(x,y,eps=1e-8):\n",
    "    import numpy as np\n",
    "    \n",
    "    nx=x/(np.sqrt(np.sum(x**2))+eps) # x의 정규화\n",
    "    ny=y/(np.sqrt(np.sum(y**2))+eps) # y의 정규화\n",
    "\n",
    "    return np.dot(nx,ny) # nx와 ny의 내적"
   ]
  },
  {
   "cell_type": "code",
   "execution_count": 17,
   "metadata": {},
   "outputs": [],
   "source": [
    "# 필요 패키지 import\n",
    "\n",
    "import sys\n",
    "sys.path.append('..')\n",
    "import common.util as ut"
   ]
  },
  {
   "cell_type": "code",
   "execution_count": 18,
   "metadata": {},
   "outputs": [
    {
     "name": "stdout",
     "output_type": "stream",
     "text": [
      "[0 1 0 0 0 0 0]\n",
      "[0 1 0 1 0 0 0]\n",
      "0.7071067691154799\n"
     ]
    }
   ],
   "source": [
    "# 단어 벡터 유사도 구하기\n",
    "\n",
    "text='You say goodbye and I say hello.'\n",
    "corpus,word_to_id,id_to_word=ut.preprocess(text)\n",
    "vocab_size=len(word_to_id) # 어휘수\n",
    "C=ut.create_co_matrix(corpus,vocab_size)\n",
    "\n",
    "c0=C[word_to_id['you']] # you의 단어 벡터\n",
    "print(c0)\n",
    "c1=C[word_to_id['i']]  # i의 단어 벡터\n",
    "print(c1)\n",
    "\n",
    "print(ut.cos_similarity(c0,c1))"
   ]
  },
  {
   "cell_type": "code",
   "execution_count": 19,
   "metadata": {},
   "outputs": [],
   "source": [
    "# 위의 유사도 함수를 활용하여 검색어와 비슷한 단어를 유사도 순으로 출력하는 함수 구현\n",
    "\n",
    "def most_similar(query,word_to_id,id_to_word,word_matrix,top=5):\n",
    "# (검색어,단어에서 단어ID로의 딕셔너리,단어ID에서 단어로의 딕셔너리,단어벡터를 모은 행렬,상위몇개까지 출력할지)\n",
    "\n",
    "    # 검색어 확인\n",
    "    if query not in word_to_id: # 검색어가 단어ID에서 단어로의 딕셔너리에 없다면\n",
    "        return '%s을(를) 찾을 수 없습니다.'% query\n",
    "    \n",
    "    print('\\n[query]'+query)\n",
    "    query_id=word_to_id[query]\n",
    "    query_vec=word_matrix[query_id]\n",
    "    \n",
    "    # 코사인 유사도 계산\n",
    "    vocab_size=len(id_to_word)\n",
    "    similarity=np.zeros(vocab_size)\n",
    "    for i in range(vocab_size):\n",
    "        similarity[i]=ut.cos_similarity(word_matrix[i],query_vec)\n",
    "    \n",
    "    # 코사인 유사도를 기준으로 내림차순 출력\n",
    "    count=0\n",
    "    ''' \n",
    "    argsort 요소의 인덱스를 오름차순으로 정리한다\n",
    "    argsort는 오름차순으로 정렬하기 때문에 -1을 곱하여 내림차순으로 정렬한 것이다\n",
    "    \n",
    "    '''\n",
    "    for i in (-1*similarity).argsort(): \n",
    "        if id_to_word[i]==query:\n",
    "            continue\n",
    "        print('%s: %s' % (id_to_word[i],similarity[i]))\n",
    "        \n",
    "        count+=1\n",
    "        if count>=top:\n",
    "            return \n",
    "    "
   ]
  },
  {
   "cell_type": "code",
   "execution_count": 20,
   "metadata": {
    "scrolled": true
   },
   "outputs": [
    {
     "name": "stdout",
     "output_type": "stream",
     "text": [
      "\n",
      "[query]you\n",
      "goodbye: 0.7071067691154799\n",
      "i: 0.7071067691154799\n",
      "hello: 0.7071067691154799\n",
      "say: 0.0\n",
      "and: 0.0\n"
     ]
    }
   ],
   "source": [
    "# 비슷한 단어 순위 출력하는 함수 확인\n",
    "\n",
    "most_similar('you',word_to_id,id_to_word,C,top=5)"
   ]
  },
  {
   "cell_type": "markdown",
   "metadata": {},
   "source": [
    "# 2.4. 통계기반 기법 개선\n",
    "\n",
    "# ※ 상호정보량\n",
    "- 점별 상호정보량(PMI) : PMI(x,y)=log2(P(x,y)/P(x)P(y))                       \n",
    "- P(x) : x가 일어날 확률, P(y) : y가 일어날 확률, P(x,y) : x와 y가 동시에 일어날 확률                                                                       \n",
    "- PMI가 높을수록 관련성이 높음                                                 \n",
    "- 동시발생 횟수가 0이면 log2 = -∞가 됨                                       \n",
    "- 실제로 구현 할 때는 양의 상호정보량(PPMI) 사용                              \n",
    "- PPMI(x,y)=max(0,PMI(x,y))"
   ]
  },
  {
   "cell_type": "code",
   "execution_count": 21,
   "metadata": {},
   "outputs": [],
   "source": [
    "# 필요 패키지 import\n",
    "\n",
    "import sys\n",
    "sys.path.append(' .. ')\n",
    "import numpy as np\n",
    "import common.util as ut\n",
    "import matplotlib.pyplot as plt"
   ]
  },
  {
   "cell_type": "code",
   "execution_count": 22,
   "metadata": {},
   "outputs": [],
   "source": [
    "# 양의 상호정보량 함수 생성\n",
    "\n",
    "def ppmi(C, verbose=False, eps=1e-8): # C:동시발생행렬, verbose: 진행상황 출력 여부 \n",
    "    M=np.zeros_like(C,dtype=np.float32) # 기존의 array와 동일 한모양과 데이터를 유지한 상태에서 각각을 0으로 반환\n",
    "    N=np.sum(C)\n",
    "    S=np.sum(C,axis=0)\n",
    "    total=C.shape[0]*C.shape[1]\n",
    "    cnt=0\n",
    "    \n",
    "    for i in range(C.shape[0]):\n",
    "        for j in range(C.shape[1]):\n",
    "            pmi=np.log2(C[i,j]*N/(S[j]*S[i])+eps) # eps(매우 작은 수)를 더함으로써 log2가 0이 되는 것을 방지했다\n",
    "            M[i,j]=max(0,pmi)\n",
    "            \n",
    "            if verbose:\n",
    "                cnt+=1\n",
    "                if cnt%(total//100)==0:\n",
    "                    print('%.1f%% 완료'% (100*cnt/total))\n",
    "    return M"
   ]
  },
  {
   "cell_type": "code",
   "execution_count": 23,
   "metadata": {},
   "outputs": [
    {
     "name": "stdout",
     "output_type": "stream",
     "text": [
      "[0 1 2 3 4 5 6 7 8 9]\n",
      "\n",
      "\n",
      "[[0 1 2 3 4]\n",
      " [5 6 7 8 9]]\n",
      "\n",
      "\n",
      "[[0 0 0 0 0]\n",
      " [0 0 0 0 0]]\n"
     ]
    }
   ],
   "source": [
    "# zeros_like?\n",
    "\n",
    "test_z=np.array(range(10)) # 1차원 배열 생성\n",
    "print(test_z)\n",
    "print('\\n')\n",
    "test_z=test_z.reshape(2,5) # 2차원 배열로 reshape\n",
    "print(test_z)\n",
    "print('\\n')\n",
    "test_z=np.zeros_like(test_z) # 위의 배열과 같은 모양, 형식이지만 요소는 0인변수 생성\n",
    "print(test_z)"
   ]
  },
  {
   "cell_type": "code",
   "execution_count": 24,
   "metadata": {},
   "outputs": [
    {
     "name": "stdout",
     "output_type": "stream",
     "text": [
      "동시발행 행렬: \n",
      "[[0 1 0 0 0 0 0]\n",
      " [1 0 1 0 1 1 0]\n",
      " [0 1 0 1 0 0 0]\n",
      " [0 0 1 0 1 0 0]\n",
      " [0 1 0 1 0 0 0]\n",
      " [0 1 0 0 0 0 1]\n",
      " [0 0 0 0 0 1 0]]\n",
      "\n",
      "\n",
      "PPMI: \n",
      "[[0.    1.807 0.    0.    0.    0.    0.   ]\n",
      " [1.807 0.    0.807 0.    0.807 0.807 0.   ]\n",
      " [0.    0.807 0.    1.807 0.    0.    0.   ]\n",
      " [0.    0.    1.807 0.    1.807 0.    0.   ]\n",
      " [0.    0.807 0.    1.807 0.    0.    0.   ]\n",
      " [0.    0.807 0.    0.    0.    0.    2.807]\n",
      " [0.    0.    0.    0.    0.    2.807 0.   ]]\n"
     ]
    }
   ],
   "source": [
    "# 동시발생 행렬을 PPMI 행렬로 변환\n",
    "\n",
    "text='You say goodbye and I say hello.'\n",
    "corpus,word_to_id,id_to_word=ut.preprocess(text)\n",
    "vocab_size=len(word_to_id)\n",
    "C=ut.create_co_matrix(corpus,vocab_size)\n",
    "W=ut.ppmi(C)\n",
    "\n",
    "np.set_printoptions(precision=3) # 유효 자리 숫자를 3자리로 표시하겠다\n",
    "print('동시발행 행렬: ')\n",
    "print(C)\n",
    "print('\\n')\n",
    "print('PPMI: ')\n",
    "print(W)"
   ]
  },
  {
   "cell_type": "markdown",
   "metadata": {},
   "source": [
    "# ※ 차원 감소\n",
    "- 중요한 정보는 최대한 유지하면서 벡터의 차원을 줄임\n",
    "- 특이값 분해(SVD) : 임의의 행렬을 세 행렬의 곱으로 분해\n",
    "- X = U * S * V^T\n",
    "- U와 V는 직교 행렬, S는 대각행렬(대각성분 외에는 모두 0인 행렬)"
   ]
  },
  {
   "cell_type": "code",
   "execution_count": 25,
   "metadata": {},
   "outputs": [
    {
     "name": "stdout",
     "output_type": "stream",
     "text": [
      "동시발생 행렬\n",
      "[0 1 0 0 0 0 0]\n",
      "\n",
      "PPMI 행렬\n",
      "[0.    1.807 0.    0.    0.    0.    0.   ]\n",
      "\n",
      "SVD\n",
      "[-3.409e-01 -1.110e-16 -3.886e-16 -1.205e-01  0.000e+00  9.323e-01\n",
      "  2.226e-16]\n"
     ]
    }
   ],
   "source": [
    "# SVD에 의한 차원 감소\n",
    "np.set_printoptions(precision=3)\n",
    "\n",
    "text='You say goodbye and I say hello.'\n",
    "corpus,word_to_id,id_to_word=ut.preprocess(text)\n",
    "vocab_size=len(id_to_word)\n",
    "C=ut.create_co_matrix(corpus,vocab_size,window_size=1)\n",
    "W=ut.ppmi(C)\n",
    "\n",
    "# SVD\n",
    "U,S,V = np.linalg.svd(W)  # linalg: 선형대수의 약어\n",
    "\n",
    "print('동시발생 행렬')\n",
    "print(C[0])\n",
    "print()\n",
    "print('PPMI 행렬')\n",
    "print(W[0])\n",
    "print()\n",
    "print('SVD')\n",
    "print(U[0])"
   ]
  },
  {
   "cell_type": "code",
   "execution_count": 26,
   "metadata": {},
   "outputs": [
    {
     "data": {
      "text/plain": [
       "<function matplotlib.pyplot.show(*args, **kw)>"
      ]
     },
     "execution_count": 26,
     "metadata": {},
     "output_type": "execute_result"
    },
    {
     "data": {
      "image/png": "[encoded data removed]",
      "text/plain": [
       "<Figure size 432x288 with 1 Axes>"
      ]
     },
     "metadata": {
      "needs_background": "light"
     },
     "output_type": "display_data"
    }
   ],
   "source": [
    "# 각 단어를 벡터로 표현 후 시각화\n",
    "\n",
    "for i, j in word_to_id.items():\n",
    "    plt.annotate(i,(U[j,0],U[j,1])) # 텍스트를 화살표와 함께 넣음\n",
    "    \n",
    "plt.scatter(U[:,0],U[:,1],alpha=0.5)\n",
    "plt.show"
   ]
  },
  {
   "cell_type": "markdown",
   "metadata": {},
   "source": [
    "# ※ PTB Data Set\n",
    "- 펜 트리뱅크 데이터 셋\n",
    "- 주어진 기법의 품질을 측정하는 벤치마크로 자주 이용됨\n",
    "- 각 문장을 하나의 큰 시계열 데이터로 취급\n",
    "- eos : end of sentence"
   ]
  },
  {
   "cell_type": "code",
   "execution_count": 27,
   "metadata": {},
   "outputs": [],
   "source": [
    "# PTB 데이터셋 import\n",
    "\n",
    "import sys\n",
    "sys.path.append(' .. ')\n",
    "import numpy as np\n",
    "import util as ut\n",
    "import ptb # 책 github에서 ptb.py 파일 다운"
   ]
  },
  {
   "cell_type": "code",
   "execution_count": 28,
   "metadata": {},
   "outputs": [
    {
     "name": "stdout",
     "output_type": "stream",
     "text": [
      " 말뭉치 크기: 929589\n",
      "corpus[:30]: [ 0  1  2  3  4  5  6  7  8  9 10 11 12 13 14 15 16 17 18 19 20 21 22 23\n",
      " 24 25 26 27 28 29]\n",
      "\n",
      "id_to_word[0]: aer\n",
      "id_to_word[1]: banknote\n",
      "id_to_word[2]: berlitz\n",
      "\n",
      "word_to_id['car']: 3856\n",
      "word_to_id['happy']: 4428\n",
      "word_to_id['lexus']: 7426\n"
     ]
    }
   ],
   "source": [
    "# car, happy, lexus 에 해당하는 단어 인덱스 번호 확인 \n",
    "\n",
    "corpus,word_to_id,id_to_word = ptb.load_data('train')\n",
    "\n",
    "print(' 말뭉치 크기:',len(corpus))\n",
    "print('corpus[:30]:',corpus[:30])\n",
    "print()\n",
    "print( 'id_to_word[0]:',id_to_word[0])\n",
    "print( 'id_to_word[1]:',id_to_word[1])\n",
    "print( 'id_to_word[2]:',id_to_word[2])\n",
    "print()\n",
    "print(\"word_to_id['car']:\",word_to_id['car'])\n",
    "print( \"word_to_id['happy']:\",word_to_id ['happy'])\n",
    "print( \"word_to_id['lexus']:\",word_to_id ['lexus' ])"
   ]
  },
  {
   "cell_type": "code",
   "execution_count": 29,
   "metadata": {},
   "outputs": [
    {
     "name": "stdout",
     "output_type": "stream",
     "text": [
      "동시발생 수 계산...\n",
      "PPMI 계산...\n"
     ]
    },
    {
     "name": "stderr",
     "output_type": "stream",
     "text": [
      "C:\\Users\\user\\Desktop\\기타\\practice\\util.py:126: RuntimeWarning: overflow encountered in long_scalars\n",
      "  pmi=np.log2(C[i,j]*N/(S[j]*S[i])+eps) # eps(매우 작은 수)를 더함으로써 log2가 0이 되는 것을 방지했다\n",
      "C:\\Users\\user\\Desktop\\기타\\practice\\util.py:126: RuntimeWarning: invalid value encountered in log2\n",
      "  pmi=np.log2(C[i,j]*N/(S[j]*S[i])+eps) # eps(매우 작은 수)를 더함으로써 log2가 0이 되는 것을 방지했다\n"
     ]
    },
    {
     "name": "stdout",
     "output_type": "stream",
     "text": [
      "1.0% 완료\n",
      "2.0% 완료\n",
      "3.0% 완료\n",
      "4.0% 완료\n",
      "5.0% 완료\n",
      "6.0% 완료\n",
      "7.0% 완료\n",
      "8.0% 완료\n",
      "9.0% 완료\n",
      "10.0% 완료\n",
      "11.0% 완료\n",
      "12.0% 완료\n",
      "13.0% 완료\n",
      "14.0% 완료\n",
      "15.0% 완료\n",
      "16.0% 완료\n",
      "17.0% 완료\n",
      "18.0% 완료\n",
      "19.0% 완료\n",
      "20.0% 완료\n",
      "21.0% 완료\n",
      "22.0% 완료\n",
      "23.0% 완료\n",
      "24.0% 완료\n",
      "25.0% 완료\n",
      "26.0% 완료\n",
      "27.0% 완료\n",
      "28.0% 완료\n",
      "29.0% 완료\n",
      "30.0% 완료\n",
      "31.0% 완료\n",
      "32.0% 완료\n",
      "33.0% 완료\n",
      "34.0% 완료\n",
      "35.0% 완료\n",
      "36.0% 완료\n",
      "37.0% 완료\n",
      "38.0% 완료\n",
      "39.0% 완료\n",
      "40.0% 완료\n",
      "41.0% 완료\n",
      "42.0% 완료\n",
      "43.0% 완료\n",
      "44.0% 완료\n",
      "45.0% 완료\n",
      "46.0% 완료\n",
      "47.0% 완료\n",
      "48.0% 완료\n",
      "49.0% 완료\n",
      "50.0% 완료\n",
      "51.0% 완료\n",
      "52.0% 완료\n",
      "53.0% 완료\n",
      "54.0% 완료\n",
      "55.0% 완료\n",
      "56.0% 완료\n",
      "57.0% 완료\n",
      "58.0% 완료\n",
      "59.0% 완료\n",
      "60.0% 완료\n",
      "61.0% 완료\n",
      "62.0% 완료\n",
      "63.0% 완료\n",
      "64.0% 완료\n",
      "65.0% 완료\n",
      "66.0% 완료\n",
      "67.0% 완료\n",
      "68.0% 완료\n",
      "69.0% 완료\n",
      "70.0% 완료\n",
      "71.0% 완료\n",
      "72.0% 완료\n",
      "73.0% 완료\n",
      "74.0% 완료\n",
      "75.0% 완료\n",
      "76.0% 완료\n",
      "77.0% 완료\n",
      "78.0% 완료\n",
      "79.0% 완료\n",
      "80.0% 완료\n",
      "81.0% 완료\n",
      "82.0% 완료\n",
      "83.0% 완료\n",
      "84.0% 완료\n",
      "85.0% 완료\n",
      "86.0% 완료\n",
      "87.0% 완료\n",
      "88.0% 완료\n",
      "89.0% 완료\n",
      "90.0% 완료\n",
      "91.0% 완료\n",
      "92.0% 완료\n",
      "93.0% 완료\n",
      "94.0% 완료\n",
      "95.0% 완료\n",
      "96.0% 완료\n",
      "97.0% 완료\n",
      "98.0% 완료\n",
      "99.0% 완료\n",
      "100.0% 완료\n"
     ]
    }
   ],
   "source": [
    "# PTB 데이터 셋 평가\n",
    "\n",
    "window_size=2\n",
    "wordvec_size=100\n",
    "\n",
    "corpus,word_to_id,id_to_word=ptb.load_data('train')\n",
    "vocab_size=len(word_to_id)\n",
    "print('동시발생 수 계산...')\n",
    "\n",
    "C=ut.create_co_matrix(corpus,vocab_size,window_size)\n",
    "print('PPMI 계산...')\n",
    "\n",
    "W=ut.ppmi(C,verbose=True)"
   ]
  },
  {
   "cell_type": "code",
   "execution_count": 30,
   "metadata": {
    "scrolled": true
   },
   "outputs": [
    {
     "name": "stdout",
     "output_type": "stream",
     "text": [
      "SVD 계산...\n",
      "\n",
      "[query]you\n",
      "i: 0.6326202154159546\n",
      "anybody: 0.594206690788269\n",
      "we: 0.5703932642936707\n",
      "do: 0.5488553047180176\n",
      "'ve: 0.4863746762275696\n",
      "\n",
      "[query]year\n",
      "month: 0.6960796117782593\n",
      "earlier: 0.6713275909423828\n",
      "quarter: 0.6152653694152832\n",
      "next: 0.610427737236023\n",
      "last: 0.601426362991333\n",
      "\n",
      "[query]car\n",
      "luxury: 0.6880124807357788\n",
      "auto: 0.6784319281578064\n",
      "cars: 0.5845720767974854\n",
      "corsica: 0.5556482076644897\n",
      "truck: 0.5221288204193115\n",
      "\n",
      "[query]toyota\n",
      "motor: 0.718309760093689\n",
      "motors: 0.6827175617218018\n",
      "honda: 0.671058177947998\n",
      "nissan: 0.63239985704422\n",
      "lexus: 0.5844541192054749\n"
     ]
    }
   ],
   "source": [
    "print('SVD 계산...')\n",
    "try:\n",
    "    # truncated SVD -> 빠름, 무작위 수를 사용함으로 매실행시 결과값이 다름\n",
    "    from sklearn.utils.extmath import randomized_svd # 무작위수 사용, 특이값이 큰 것들만 계산\n",
    "    U,S,V=randomized_svd(W,n_components=wordvec_size,n_iter=5,random_state=None)\n",
    "    \n",
    "except ImportError:\n",
    "    # SVD -> 느림\n",
    "    U,S,V=np.linalg.svd(W)\n",
    "\n",
    "word_vecs=U[:,:wordvec_size]\n",
    "\n",
    "querys=['you','year','car','toyota'] # 검색어\n",
    "for i in querys:\n",
    "    ut.most_similar(i,word_to_id,id_to_word,word_vecs,top=5)"
   ]
  },
  {
   "cell_type": "code",
   "execution_count": null,
   "metadata": {},
   "outputs": [],
   "source": []
  }
 ],
 "metadata": {
  "kernelspec": {
   "display_name": "Python 3",
   "language": "python",
   "name": "python3"
  },
  "language_info": {
   "codemirror_mode": {
    "name": "ipython",
    "version": 3
   },
   "file_extension": ".py",
   "mimetype": "text/x-python",
   "name": "python",
   "nbconvert_exporter": "python",
   "pygments_lexer": "ipython3",
   "version": "3.7.3"
  }
 },
 "nbformat": 4,
 "nbformat_minor": 2
}
