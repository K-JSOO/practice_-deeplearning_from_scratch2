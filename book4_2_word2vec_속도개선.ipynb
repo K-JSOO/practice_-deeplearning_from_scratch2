{
 "cells": [
  {
   "cell_type": "code",
   "execution_count": 1,
   "metadata": {},
   "outputs": [],
   "source": [
    "import sys\n",
    "sys.path.append ('..')\n",
    "from common.util import most_similar\n",
    "import pickle "
   ]
  },
  {
   "cell_type": "code",
   "execution_count": 2,
   "metadata": {},
   "outputs": [
    {
     "name": "stdout",
     "output_type": "stream",
     "text": [
      "\n",
      "[query] you\n",
      " we: 0.833984375\n",
      " i: 0.8330078125\n",
      " somebody: 0.74365234375\n",
      " your: 0.73583984375\n",
      " someone: 0.73193359375\n",
      "\n",
      "[query] year\n",
      " month: 0.91015625\n",
      " week: 0.8408203125\n",
      " spring: 0.82958984375\n",
      " summer: 0.82080078125\n",
      " decade: 0.7099609375\n",
      "\n",
      "[query] car\n",
      " truck: 0.7470703125\n",
      " machine: 0.70654296875\n",
      " computer: 0.67578125\n",
      " vehicle: 0.67431640625\n",
      " portable: 0.64892578125\n",
      "\n",
      "[query] toyota\n",
      " minicomputers: 0.76806640625\n",
      " honda: 0.755859375\n",
      " tires: 0.75\n",
      " weyerhaeuser: 0.7470703125\n",
      " marathon: 0.734375\n"
     ]
    }
   ],
   "source": [
    "# CBOW 모델 평가\n",
    "\n",
    "pkl_file='cbow_params.pkl'\n",
    "\n",
    "with open(pkl_file,'rb') as f:\n",
    "    params=pickle.load(f)\n",
    "\n",
    "word_vecs=params['word_vecs']\n",
    "word_to_id=params['word_to_id']\n",
    "id_to_word=params['id_to_word']\n",
    "\n",
    "querys=['you','year','car','toyota']\n",
    "for query in querys:\n",
    "    most_similar(query,word_to_id ,id_to_word,word_vecs,top=5) "
   ]
  },
  {
   "cell_type": "code",
   "execution_count": 3,
   "metadata": {},
   "outputs": [],
   "source": [
    "from common.util import analogy"
   ]
  },
  {
   "cell_type": "code",
   "execution_count": 4,
   "metadata": {
    "scrolled": false
   },
   "outputs": [
    {
     "name": "stdout",
     "output_type": "stream",
     "text": [
      "\n",
      "[analogy] man:king = queen:?\n",
      " a: 3.7265625\n",
      " multiples: 3.427734375\n",
      " largest: 3.263671875\n",
      " corp: 3.109375\n",
      " plc: 3.03515625\n",
      "\n",
      "[analogy] take:took = go:?\n",
      " was: 4.4609375\n",
      " 're: 4.4375\n",
      " a.m: 4.27734375\n",
      " went: 3.896484375\n",
      " were: 3.8203125\n",
      "\n",
      "[analogy] car:cars = child:?\n",
      " a.m: 5.83984375\n",
      " rape: 4.578125\n",
      " children: 4.4375\n",
      " women: 4.3125\n",
      " feet: 4.28515625\n",
      "\n",
      "[analogy] good:better = bad:?\n",
      " more: 5.53125\n",
      " rather: 5.43359375\n",
      " less: 4.99609375\n",
      " greater: 3.330078125\n",
      " far: 3.10546875\n"
     ]
    }
   ],
   "source": [
    "# analogy 함수\n",
    "'''\n",
    "단어 'man'의 분산 표현(단어 벡터)을 \"vec('man')\"이라고 표현\n",
    "얻고 싶은 관계를 수식으로 나타내면\n",
    "“vec('woman')-vec('man')=vec(?)-vec('king')\"이 됨 \n",
    "풀어야 되는 문제는“vec('king')+vec('woman')-vec('man')=vec(?)\"라는 \n",
    "벡터에 가장 가까운 단어 벡터를 구하는 일\n",
    "'''\n",
    "\n",
    "analogy('man','king','queen',word_to_id,id_to_word,word_vecs)\n",
    "analogy('take','took','go',word_to_id,id_to_word,word_vecs)\n",
    "analogy('car','cars','child',word_to_id,id_to_word,word_vecs)\n",
    "analogy('good','better','bad',word_to_id,id_to_word,word_vecs)"
   ]
  }
 ],
 "metadata": {
  "kernelspec": {
   "display_name": "Python 3",
   "language": "python",
   "name": "python3"
  },
  "language_info": {
   "codemirror_mode": {
    "name": "ipython",
    "version": 3
   },
   "file_extension": ".py",
   "mimetype": "text/x-python",
   "name": "python",
   "nbconvert_exporter": "python",
   "pygments_lexer": "ipython3",
   "version": "3.7.3"
  }
 },
 "nbformat": 4,
 "nbformat_minor": 2
}
